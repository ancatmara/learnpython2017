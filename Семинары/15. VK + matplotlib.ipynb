{
 "cells": [
  {
   "cell_type": "markdown",
   "metadata": {},
   "source": [
    "1. Скачать список пользователей, состоящих в группе https://vk.com/dormitory8hse. Нарисовать столбчатую диаграмму, показывающую, сколько человек из каких городов состоит в группе."
   ]
  },
  {
   "cell_type": "code",
   "execution_count": 5,
   "metadata": {
    "collapsed": true
   },
   "outputs": [],
   "source": [
    "import urllib.request\n",
    "import json"
   ]
  },
  {
   "cell_type": "code",
   "execution_count": 6,
   "metadata": {
    "collapsed": false
   },
   "outputs": [
    {
     "data": {
      "text/plain": [
       "4390"
      ]
     },
     "execution_count": 6,
     "metadata": {},
     "output_type": "execute_result"
    }
   ],
   "source": [
    "offsets = [0, 1000, 2000, 3000, 4000]\n",
    "users = set()\n",
    "for off in offsets:\n",
    "    req = urllib.request.Request('https://api.vk.com/method/groups.getMembers?group_id=dormitory8hse&offset=' + str(off))\n",
    "    response = urllib.request.urlopen(req)\n",
    "    result = response.read().decode('utf-8')\n",
    "    data = json.loads(result) \n",
    "    users = users | set(data['response']['users'])\n",
    "len(users)"
   ]
  },
  {
   "cell_type": "code",
   "execution_count": null,
   "metadata": {
    "collapsed": false
   },
   "outputs": [],
   "source": [
    "cities = []\n",
    "i = 0\n",
    "for user in users:\n",
    "    print(i)\n",
    "    if i > 1000:\n",
    "        break\n",
    "    req = urllib.request.Request('https://api.vk.com/method/users.get?user_ids={}&fields=home_town'.format(str(user)))\n",
    "    response = urllib.request.urlopen(req) # да, так тоже можно, не обязательно делать это с with, как в примере выше\n",
    "    result = response.read().decode('utf-8')\n",
    "    data = json.loads(result) \n",
    "    if 'home_town' not in (data['response'][0]):\n",
    "        continue\n",
    "    cities.append(data['response'][0]['home_town'])\n",
    "    i += 1\n",
    "print(len(cities))"
   ]
  },
  {
   "cell_type": "code",
   "execution_count": 14,
   "metadata": {
    "collapsed": false
   },
   "outputs": [],
   "source": [
    "cities = [city for city in cities if city != '']\n",
    "from collections import Counter\n",
    "cities = Counter(cities)"
   ]
  },
  {
   "cell_type": "code",
   "execution_count": 9,
   "metadata": {
    "collapsed": false
   },
   "outputs": [
    {
     "data": {
      "text/plain": [
       "{'Moscow': 4,\n",
       " 'Yerevan': 3,\n",
       " 'Бишкек': 3,\n",
       " 'Брянск': 7,\n",
       " 'Владивосток': 4,\n",
       " 'Владикавказ': 5,\n",
       " 'Владимир': 3,\n",
       " 'Волгоград': 4,\n",
       " 'Воронеж': 4,\n",
       " 'Екатеринбург': 12,\n",
       " 'Ижевск': 10,\n",
       " 'Йошкар-Ола': 4,\n",
       " 'Казань': 3,\n",
       " 'Калининград': 3,\n",
       " 'Караганда': 3,\n",
       " 'Киров': 11,\n",
       " 'Кишинёв': 3,\n",
       " 'Краснодар': 7,\n",
       " 'Красноярск': 5,\n",
       " 'Курск': 4,\n",
       " 'Москва': 61,\n",
       " 'Набережные Челны': 5,\n",
       " 'Нижнекамск': 3,\n",
       " 'Нижний Новгород': 9,\n",
       " 'Новосибирск': 10,\n",
       " 'Обнинск': 4,\n",
       " 'Одинцово': 8,\n",
       " 'Омск': 8,\n",
       " 'Пермь': 7,\n",
       " 'Ростов-на-Дону': 4,\n",
       " 'Рязань': 6,\n",
       " 'Самара': 7,\n",
       " 'Санкт-Петербург': 11,\n",
       " 'Саранск': 3,\n",
       " 'Саратов': 5,\n",
       " 'Смоленск': 3,\n",
       " 'Тамбов': 10,\n",
       " 'Ташкент': 13,\n",
       " 'Тверь': 7,\n",
       " 'Тольятти': 5,\n",
       " 'Тула': 5,\n",
       " 'Уфа': 7,\n",
       " 'Чебоксары': 10,\n",
       " 'Челябинск': 4}"
      ]
     },
     "execution_count": 9,
     "metadata": {},
     "output_type": "execute_result"
    }
   ],
   "source": [
    "cities = dict(cities)\n",
    "cities = {c : cities[c] for c in cities if cities[c] > 2 and len(c) > 2}\n",
    "cities"
   ]
  },
  {
   "cell_type": "code",
   "execution_count": 13,
   "metadata": {
    "collapsed": false
   },
   "outputs": [
    {
     "name": "stderr",
     "output_type": "stream",
     "text": [
      "/usr/local/lib/python3.5/dist-packages/matplotlib/axes/_axes.py:545: UserWarning: No labelled objects found. Use label='...' kwarg on individual plots.\n",
      "  warnings.warn(\"No labelled objects found. \"\n"
     ]
    },
    {
     "data": {
      "image/png": "[encoded data removed]",
      "text/plain": [
       "<matplotlib.figure.Figure at 0x7f984031b5c0>"
      ]
     },
     "metadata": {},
     "output_type": "display_data"
    }
   ],
   "source": [
    "import matplotlib.pyplot as plt\n",
    "\n",
    "city_nums = [cities[city] for city in cities]\n",
    "city_labs = [city for city in cities]\n",
    "plt.bar(range(len(city_labs)), city_nums)\n",
    "\n",
    "plt.title('Города в общежитии ВШЭ')\n",
    "plt.ylabel('Количество студентов')\n",
    "plt.xlabel('Город')\n",
    "plt.xticks(range(len(city_labs)), city_labs, rotation=90)\n",
    "plt.legend()\n",
    "plt.show()"
   ]
  },
  {
   "cell_type": "code",
   "execution_count": null,
   "metadata": {
    "collapsed": true
   },
   "outputs": [],
   "source": [
    ""
   ]
  }
 ],
 "metadata": {
  "kernelspec": {
   "display_name": "Python 3",
   "language": "python",
   "name": "python3"
  },
  "language_info": {
   "codemirror_mode": {
    "name": "ipython",
    "version": 3.0
   },
   "file_extension": ".py",
   "mimetype": "text/x-python",
   "name": "python",
   "nbconvert_exporter": "python",
   "pygments_lexer": "ipython3",
   "version": "3.5.2"
  }
 },
 "nbformat": 4,
 "nbformat_minor": 0
}