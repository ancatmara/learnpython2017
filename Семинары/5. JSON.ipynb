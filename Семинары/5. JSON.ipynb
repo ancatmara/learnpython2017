{
 "cells": [
  {
   "cell_type": "markdown",
   "metadata": {},
   "source": [
    "# JSON\n",
    "\n",
    "## Формат json\n",
    "\n",
    "JSON -- простой, основанный на использовании текста, способ хранить и передавать структурированные данные. \n",
    "\n",
    "JSON значит JavaScript Object Notation.\n",
    "\n",
    "Его придумали для того, чтобы упростить обмен данными. \n",
    "\n",
    "Его предложения легко читаются и составляются как человеком, так и компьютером.\n",
    "\n",
    "Его легко преобразовать в структуру данных для большинства языков программирования (числа, строки, логические переменные, массивы и так далее).\n",
    "\n",
    "Многие языки программирования имеют функции и библиотеки для чтения и создания структур JSON. \n",
    "\n",
    "JSON обычно более компактный чем XML. \n",
    "\n",
    "## Правила json\n",
    "\n",
    "Строка json может содержать __объект__, и тогда она начинается с `{` и заканчивается на `}`. Такой объект очень похож на питоновский словарь: у него есть ключи - строки, которые пишутся в кавычках, а через двоеточие пишется значение, пары ключ-значение разделяются запятыми. Например:"
   ]
  },
  {
   "cell_type": "code",
   "execution_count": null,
   "metadata": {
    "collapsed": true
   },
   "outputs": [],
   "source": [
    "{\"first_name\": \"Guido\", \"last_name\":\"Rossum\"}"
   ]
  },
  {
   "cell_type": "markdown",
   "metadata": {},
   "source": [
    "Строка json может содержать __массив__, и тогда она начинается с `[` и заканчивается на `]`. Такой массив очень похож на питоновский массив: в нем значения перечисляются через запятую. Например:"
   ]
  },
  {
   "cell_type": "code",
   "execution_count": null,
   "metadata": {
    "collapsed": true
   },
   "outputs": [],
   "source": [
    "['Guido van Rossum', 'Diana Clarke', 'Naomi Ceder', 'Van Lindberg', 'Ewa Jodlowska']"
   ]
  },
  {
   "cell_type": "markdown",
   "metadata": {},
   "source": [
    "Значение в массиве или объекте может быть:\n",
    "* Числом (целым или с плавающей точкой)\n",
    "* Строкой (в двойных кавычках)\n",
    "* Логическим значением (true или false)\n",
    "* Другим массивом (заключенным в квадратные скобки)\n",
    "* Другим объектом (заключенным в фигурные скобки)\n",
    "* Значением null\n",
    "\n",
    "Чтобы включить в строку специальные символы (например, кавычку), их нужно экранировать с помощью \\, например, `\\\"` или `\\r\\n`. Наглядные правила построения json-строки можно посмотреть на официальном сайте http://www.json.org/, если захочется.\n",
    "\n",
    "Может показаться, что это вообще-то все и так очень похоже на обычный питон. Но это не так. Во-первых, json -- это не исполняемый код, а просто текст. Во-вторых, очень часто запись валидного питоновского словаря или массива не будет являться валидной записью в формате json. Например, это не json, но при этом словарь: `{(1, 'a'): u'12345'}`. (Попробуйте придумать еще примеры.)\n",
    "\n",
    "Вот еще пример строки json, посложнее:"
   ]
  },
  {
   "cell_type": "code",
   "execution_count": null,
   "metadata": {
    "collapsed": true
   },
   "outputs": [],
   "source": [
    "{\"organisation\": \"Python Software Foundation\",\n",
    " \"officers\": [\n",
    "            {\"first_name\": \"Guido\", \"last_name\":\"Rossum\", \"position\":\"president\"},\n",
    "            {\"first_name\": \"Diana\", \"last_name\":\"Clarke\", \"position\":\"chair\"},\n",
    "            {\"first_name\": \"Naomi\", \"last_name\":\"Ceder\", \"position\":\"vice chair\"},\n",
    "            {\"first_name\": \"Van\", \"last_name\":\"Lindberg\", \"position\":\"vice chair\"},\n",
    "            {\"first_name\": \"Ewa\", \"last_name\":\"Jodlowska\", \"position\":\"director of operations\"}\n",
    "            ],\n",
    "\"type\": \"non-profit\",\n",
    "\"country\": \"USA\",\n",
    "\"founded\": 2001,\n",
    "\"members\": 244,\n",
    "\"budget\": 750000,\n",
    "\"url\": \"www.python.org/psf/\"}"
   ]
  },
  {
   "cell_type": "markdown",
   "metadata": {},
   "source": [
    "## Модуль json\n",
    "\n",
    "В питоне есть стандартный модуль `json`. В основном из этого модуля используют такие функции:\n",
    "\n",
    "* `loads`  - превратить строку в формате JSON в объект питона - словарь или массив. У этой функции один обязательный аргумент - строка.\n",
    "* `dumps`  - превратить питоновский словарь или массив в строку JSON. У этой функции один обязательный аргумент - словарь или массив.\n",
    "* `load` - прочитать файл и превратить JSON, который в нем находится, в объект питона. У этой функции два обязательных аргумента - файл и объект питона.\n",
    "* `dump` - превратить питоновский словарь или массив в строку JSON и записать ее в файл. У этой функции два обязательных аргумента - файл и объект питона.\n",
    "\n",
    "Обратите внимание, что под словом \"файл\" в данном случае имеется в виду любой файло-подобный объект -- собственно файл, или стандартный ввод-вывод, или даже запросы, которые мы отправляем через `urllib.request`, то есть такие объекты, к которым можно применить метод `.read()`.\n",
    "\n",
    "## Пример\n",
    "\n",
    "Попробуем превратить нашу строку в объекты питона:"
   ]
  },
  {
   "cell_type": "code",
   "execution_count": 12,
   "metadata": {
    "collapsed": true
   },
   "outputs": [],
   "source": [
    "json_string = \"\"\"{\"organisation\": \"Python Software Foundation\",\n",
    "                 \"officers\": [\n",
    "                            {\"first_name\": \"Guido\", \"last_name\":\"Rossum\", \"position\":\"president\"},\n",
    "                            {\"first_name\": \"Diana\", \"last_name\":\"Clarke\", \"position\":\"chair\"},\n",
    "                            {\"first_name\": \"Naomi\", \"last_name\":\"Ceder\", \"position\":\"vice chair\"},\n",
    "                            {\"first_name\": \"Van\", \"last_name\":\"Lindberg\", \"position\":\"vice chair\"},\n",
    "                            {\"first_name\": \"Ewa\", \"last_name\":\"Jodlowska\", \"position\":\"director of operations\"}\n",
    "                            ],\n",
    "                \"type\": \"non-profit\",\n",
    "                \"country\": \"USA\",\n",
    "                \"founded\": 2001,\n",
    "                \"members\": 244,\n",
    "                \"budget\": 750000,\n",
    "                \"url\": \"www.python.org/psf/\"}\"\"\""
   ]
  },
  {
   "cell_type": "code",
   "execution_count": 13,
   "metadata": {
    "collapsed": false
   },
   "outputs": [
    {
     "name": "stdout",
     "output_type": "stream",
     "text": [
      "<class 'dict'>\n"
     ]
    }
   ],
   "source": [
    "import json\n",
    "data = json.loads(json_string)\n",
    "print(type(data))  # распечатаем тип объекта и убедимся, что теперь это не строка, а словарь"
   ]
  },
  {
   "cell_type": "code",
   "execution_count": 14,
   "metadata": {
    "collapsed": false
   },
   "outputs": [
    {
     "name": "stdout",
     "output_type": "stream",
     "text": [
      "{'officers': [{'position': 'president', 'last_name': 'Rossum', 'first_name': 'Guido'}, {'position': 'chair', 'last_name': 'Clarke', 'first_name': 'Diana'}, {'position': 'vice chair', 'last_name': 'Ceder', 'first_name': 'Naomi'}, {'position': 'vice chair', 'last_name': 'Lindberg', 'first_name': 'Van'}, {'position': 'director of operations', 'last_name': 'Jodlowska', 'first_name': 'Ewa'}], 'type': 'non-profit', 'country': 'USA', 'url': 'www.python.org/psf/', 'members': 244, 'organisation': 'Python Software Foundation', 'budget': 750000, 'founded': 2001}\n"
     ]
    }
   ],
   "source": [
    "print(data) # посмотрим на сам этот словарь"
   ]
  },
  {
   "cell_type": "code",
   "execution_count": 15,
   "metadata": {
    "collapsed": false
   },
   "outputs": [
    {
     "name": "stdout",
     "output_type": "stream",
     "text": [
      "officers type country url members organisation budget founded "
     ]
    }
   ],
   "source": [
    "# и попробуем поработать с этим словарем. например, распечатаем его ключи.\n",
    "for key in data: \n",
    "    print(key, end=' ')"
   ]
  },
  {
   "cell_type": "code",
   "execution_count": 16,
   "metadata": {
    "collapsed": false
   },
   "outputs": [
    {
     "name": "stdout",
     "output_type": "stream",
     "text": [
      "<class 'str'>\n"
     ]
    }
   ],
   "source": [
    "# теперь предположим, что у нас есть питоновский словарь или массив, который мы хотим сохранить в виде строки json\n",
    "\n",
    "d = {\"John\": 21, \"Kate\": 20, \"Bill\": 27}\n",
    "json_string = json.dumps(d)\n",
    "print(type(json_string)) # убедимся, что теперь наши данные превратились в строку"
   ]
  },
  {
   "cell_type": "code",
   "execution_count": 17,
   "metadata": {
    "collapsed": false
   },
   "outputs": [
    {
     "name": "stdout",
     "output_type": "stream",
     "text": [
      "{\"Kate\": 20, \"John\": 21, \"Bill\": 27}\n"
     ]
    }
   ],
   "source": [
    "# распечатаем эту строку\n",
    "print(json_string)"
   ]
  },
  {
   "cell_type": "code",
   "execution_count": 18,
   "metadata": {
    "collapsed": false
   },
   "outputs": [
    {
     "name": "stdout",
     "output_type": "stream",
     "text": [
      "<class 'str'>\n",
      "[\"hello\", \"world\"]\n"
     ]
    }
   ],
   "source": [
    "# то же самое можно делать с массивами\n",
    "arr = ['hello', 'world']\n",
    "json_string = json.dumps(arr)\n",
    "print(type(json_string)) \n",
    "print(json_string)"
   ]
  },
  {
   "cell_type": "code",
   "execution_count": 21,
   "metadata": {
    "collapsed": false
   },
   "outputs": [
    {
     "ename": "TypeError",
     "evalue": "keys must be a string",
     "traceback": [
      "\u001b[1;31m---------------------------------------------------------------------------\u001b[0m",
      "\u001b[1;31mTypeError\u001b[0m                                 Traceback (most recent call last)",
      "\u001b[1;32m<ipython-input-21-11c406ac3b5d>\u001b[0m in \u001b[0;36m<module>\u001b[1;34m()\u001b[0m\n\u001b[0;32m      1\u001b[0m \u001b[1;31m# убедимся, что не все питоновские правильные объекты хорошо вписываются в json\u001b[0m\u001b[1;33m\u001b[0m\u001b[1;33m\u001b[0m\u001b[0m\n\u001b[0;32m      2\u001b[0m \u001b[0md\u001b[0m \u001b[1;33m=\u001b[0m \u001b[1;33m{\u001b[0m\u001b[1;33m(\u001b[0m\u001b[1;34m\"USA\"\u001b[0m\u001b[1;33m,\u001b[0m \u001b[1;36m21\u001b[0m\u001b[1;33m)\u001b[0m\u001b[1;33m:\u001b[0m \u001b[1;34m\"John\"\u001b[0m\u001b[1;33m,\u001b[0m \u001b[1;34m\"Kate\"\u001b[0m\u001b[1;33m:\u001b[0m \u001b[1;33m(\u001b[0m\u001b[1;34m\"Italy\"\u001b[0m\u001b[1;33m,\u001b[0m \u001b[1;36m20\u001b[0m\u001b[1;33m)\u001b[0m\u001b[1;33m,\u001b[0m \u001b[1;34m\"Bill\"\u001b[0m\u001b[1;33m:\u001b[0m \u001b[1;33m(\u001b[0m\u001b[1;34m\"Canada\"\u001b[0m\u001b[1;33m,\u001b[0m \u001b[1;36m27\u001b[0m\u001b[1;33m)\u001b[0m\u001b[1;33m}\u001b[0m\u001b[1;33m\u001b[0m\u001b[0m\n\u001b[1;32m----> 3\u001b[1;33m \u001b[0mjson_string\u001b[0m \u001b[1;33m=\u001b[0m \u001b[0mjson\u001b[0m\u001b[1;33m.\u001b[0m\u001b[0mdumps\u001b[0m\u001b[1;33m(\u001b[0m\u001b[0md\u001b[0m\u001b[1;33m)\u001b[0m\u001b[1;33m\u001b[0m\u001b[0m\n\u001b[0m\u001b[0;32m      4\u001b[0m \u001b[0mprint\u001b[0m\u001b[1;33m(\u001b[0m\u001b[0mjson_string\u001b[0m\u001b[1;33m)\u001b[0m\u001b[1;33m\u001b[0m\u001b[0m\n",
      "\u001b[1;32mc:\\python34\\lib\\json\\__init__.py\u001b[0m in \u001b[0;36mdumps\u001b[1;34m(obj, skipkeys, ensure_ascii, check_circular, allow_nan, cls, indent, separators, default, sort_keys, **kw)\u001b[0m\n\u001b[0;32m    228\u001b[0m         \u001b[0mcls\u001b[0m \u001b[1;32mis\u001b[0m \u001b[1;32mNone\u001b[0m \u001b[1;32mand\u001b[0m \u001b[0mindent\u001b[0m \u001b[1;32mis\u001b[0m \u001b[1;32mNone\u001b[0m \u001b[1;32mand\u001b[0m \u001b[0mseparators\u001b[0m \u001b[1;32mis\u001b[0m \u001b[1;32mNone\u001b[0m \u001b[1;32mand\u001b[0m\u001b[1;33m\u001b[0m\u001b[0m\n\u001b[0;32m    229\u001b[0m         default is None and not sort_keys and not kw):\n\u001b[1;32m--> 230\u001b[1;33m         \u001b[1;32mreturn\u001b[0m \u001b[0m_default_encoder\u001b[0m\u001b[1;33m.\u001b[0m\u001b[0mencode\u001b[0m\u001b[1;33m(\u001b[0m\u001b[0mobj\u001b[0m\u001b[1;33m)\u001b[0m\u001b[1;33m\u001b[0m\u001b[0m\n\u001b[0m\u001b[0;32m    231\u001b[0m     \u001b[1;32mif\u001b[0m \u001b[0mcls\u001b[0m \u001b[1;32mis\u001b[0m \u001b[1;32mNone\u001b[0m\u001b[1;33m:\u001b[0m\u001b[1;33m\u001b[0m\u001b[0m\n\u001b[0;32m    232\u001b[0m         \u001b[0mcls\u001b[0m \u001b[1;33m=\u001b[0m \u001b[0mJSONEncoder\u001b[0m\u001b[1;33m\u001b[0m\u001b[0m\n",
      "\u001b[1;32mc:\\python34\\lib\\json\\encoder.py\u001b[0m in \u001b[0;36mencode\u001b[1;34m(self, o)\u001b[0m\n\u001b[0;32m    190\u001b[0m         \u001b[1;31m# exceptions aren't as detailed.  The list call should be roughly\u001b[0m\u001b[1;33m\u001b[0m\u001b[1;33m\u001b[0m\u001b[0m\n\u001b[0;32m    191\u001b[0m         \u001b[1;31m# equivalent to the PySequence_Fast that ''.join() would do.\u001b[0m\u001b[1;33m\u001b[0m\u001b[1;33m\u001b[0m\u001b[0m\n\u001b[1;32m--> 192\u001b[1;33m         \u001b[0mchunks\u001b[0m \u001b[1;33m=\u001b[0m \u001b[0mself\u001b[0m\u001b[1;33m.\u001b[0m\u001b[0miterencode\u001b[0m\u001b[1;33m(\u001b[0m\u001b[0mo\u001b[0m\u001b[1;33m,\u001b[0m \u001b[0m_one_shot\u001b[0m\u001b[1;33m=\u001b[0m\u001b[1;32mTrue\u001b[0m\u001b[1;33m)\u001b[0m\u001b[1;33m\u001b[0m\u001b[0m\n\u001b[0m\u001b[0;32m    193\u001b[0m         \u001b[1;32mif\u001b[0m \u001b[1;32mnot\u001b[0m \u001b[0misinstance\u001b[0m\u001b[1;33m(\u001b[0m\u001b[0mchunks\u001b[0m\u001b[1;33m,\u001b[0m \u001b[1;33m(\u001b[0m\u001b[0mlist\u001b[0m\u001b[1;33m,\u001b[0m \u001b[0mtuple\u001b[0m\u001b[1;33m)\u001b[0m\u001b[1;33m)\u001b[0m\u001b[1;33m:\u001b[0m\u001b[1;33m\u001b[0m\u001b[0m\n\u001b[0;32m    194\u001b[0m             \u001b[0mchunks\u001b[0m \u001b[1;33m=\u001b[0m \u001b[0mlist\u001b[0m\u001b[1;33m(\u001b[0m\u001b[0mchunks\u001b[0m\u001b[1;33m)\u001b[0m\u001b[1;33m\u001b[0m\u001b[0m\n",
      "\u001b[1;32mc:\\python34\\lib\\json\\encoder.py\u001b[0m in \u001b[0;36miterencode\u001b[1;34m(self, o, _one_shot)\u001b[0m\n\u001b[0;32m    248\u001b[0m                 \u001b[0mself\u001b[0m\u001b[1;33m.\u001b[0m\u001b[0mkey_separator\u001b[0m\u001b[1;33m,\u001b[0m \u001b[0mself\u001b[0m\u001b[1;33m.\u001b[0m\u001b[0mitem_separator\u001b[0m\u001b[1;33m,\u001b[0m \u001b[0mself\u001b[0m\u001b[1;33m.\u001b[0m\u001b[0msort_keys\u001b[0m\u001b[1;33m,\u001b[0m\u001b[1;33m\u001b[0m\u001b[0m\n\u001b[0;32m    249\u001b[0m                 self.skipkeys, _one_shot)\n\u001b[1;32m--> 250\u001b[1;33m         \u001b[1;32mreturn\u001b[0m \u001b[0m_iterencode\u001b[0m\u001b[1;33m(\u001b[0m\u001b[0mo\u001b[0m\u001b[1;33m,\u001b[0m \u001b[1;36m0\u001b[0m\u001b[1;33m)\u001b[0m\u001b[1;33m\u001b[0m\u001b[0m\n\u001b[0m\u001b[0;32m    251\u001b[0m \u001b[1;33m\u001b[0m\u001b[0m\n\u001b[0;32m    252\u001b[0m def _make_iterencode(markers, _default, _encoder, _indent, _floatstr,\n",
      "\u001b[1;31mTypeError\u001b[0m: keys must be a string"
     ],
     "output_type": "error"
    }
   ],
   "source": [
    "# убедимся, что не все питоновские правильные объекты хорошо вписываются в json\n",
    "d = {(\"A\", 21): \"John\"}\n",
    "json_string = json.dumps(d)\n",
    "print(json_string)"
   ]
  },
  {
   "cell_type": "markdown",
   "metadata": {},
   "source": [
    "Такие дела."
   ]
  },
  {
   "cell_type": "raw",
   "metadata": {},
   "source": [
    "Записывая json в файл, можно вставить ещё два необязательных параметра, которые могут быть полезны для последующей работы.\n",
    "\n",
    "Во-первых, это параметр indent, он позволяет сделать так, чтобы данные записывались в файл с человекопонятным форматированием. Тогда файл можно будет открыть текстовым редактором и посмотреть глазами, что там внутри.\n",
    "\n",
    "Во-вторых, это параметр ensure_ascii, он служит в целом для того же. Дело в том, что если в ваших данных есть не-ascii символы, то модуль json по умолчанию кодирует их специальным образом, используя при этом только символы из ограниченного набора, читающиеся одинаково почти во всех кодировках. Это хорошо при переносе данных из одной программы в другую: ничего не собьётся и не потерятся. Но это плохо для человека: понять, что в таком файле, станет невозможно."
   ]
  },
  {
   "cell_type": "code",
   "execution_count": null,
   "metadata": {
    "collapsed": true
   },
   "outputs": [],
   "source": [
    "# вот такой код просто сбросит словарь в файл:\n",
    "\n",
    "d = {'абв': 1, 'где': 2, 'ёжз': 3}\n",
    "f = open('data.json', 'w', encoding='utf-8')\n",
    "json.dump(d, f)\n",
    "f.close()\n",
    "\n",
    "# если заглянуть в файл, то результат будет таким:\n",
    "\n",
    "{\"\\u0433\\u0434\\u0435\": 2, \"\\u0430\\u0431\\u0432\": 1, \"\\u0451\\u0436\\u0437\": 3}\n",
    "\n",
    "# добавим параметр ensure_ascii:\n",
    "\n",
    "json.dump(d, f, ensure_ascii = False)\n",
    "\n",
    "# результат:\n",
    "\n",
    "{\"где\": 2, \"абв\": 1, \"ёжз\": 3}\n",
    "\n",
    "# добавим indent (числовое значение -- это число пробелов в отступах):\n",
    "\n",
    "json.dump(d, f, ensure_ascii = False, indent = 4)\n",
    "\n",
    "# вот"
   ]
  },
  {
   "cell_type": "markdown",
   "metadata": {},
   "source": [
    "## Как проверить валидность json\n",
    "Когда нам приходится иметь дело с большими данными, заметить ошибку в json-файле -- какую-нибудь недостающую скобочку или кавычку -- не всегда легко. Если вы видите ошибку чтения/кодирования/декодирования json, но не можете ее найти, или просто хотите подстраховаться, можно проверить текст на одном из следующих сайтов (проще всего самый первый):\n",
    "* https://jsonlint.com/\n",
    "* https://jsoncompare.com/ \n",
    "* http://www.jsonschemavalidator.net/\n",
    "* https://jsonformatter.curiousconcept.com/#"
   ]
  },
  {
   "cell_type": "markdown",
   "metadata": {},
   "source": [
    "## json в дикой природе\n",
    "\n",
    "Наиболее частое распространенное использование JSON -- пересылка данных от сервера к браузеру. Например, когда сервер отправляет браузеру веб-страницу, часто к странице прикладывается json c дополнительной информацией. Иногда весь ответ браузера состоит из json.\n",
    "\n",
    "Разберем в качестве примера гитхаб. Если отправлять на гитхаб специальные запросы по особым ссылкам, то в ответ сервер гитхаба будет присылать json-строку с информацией. Например, можно получить список всех репозиториев заданного пользователя или список его фолловеров."
   ]
  },
  {
   "cell_type": "code",
   "execution_count": 22,
   "metadata": {
    "collapsed": false
   },
   "outputs": [
    {
     "name": "stdout",
     "output_type": "stream",
     "text": [
      "21\n",
      "19thcentury\n",
      "2016learnpython\n",
      "animal_sounds_graph_project\n",
      "ASD_children_corpus\n",
      "constructicon\n",
      "elmiram.github.io\n",
      "EmotionAnalysisInVideo\n",
      "HarryPotterBot\n",
      "heritage_corpus\n",
      "homework\n",
      "lang8-crawler\n",
      "learner_corpus\n",
      "mockingBot\n",
      "riichicount\n",
      "RNCfrontend\n",
      "ruhwr\n",
      "ruscorpora_front\n",
      "RusDisamb\n",
      "RusTokenizer\n",
      "txt2prs\n",
      "Yiddish\n"
     ]
    }
   ],
   "source": [
    "import json\n",
    "import urllib.request\n",
    "\n",
    "user = \"elmiram\"  # пользователь, про которого мы хотим что-то узнать\n",
    "url = 'https://api.github.com/users/%s/repos' % user  \n",
    "# по этой ссылке мы будем доставать джейсон, попробуйте вставить ссылку в браузер и посмотреть, что там\n",
    "\n",
    "response = urllib.request.urlopen(url)  # посылаем серверу запрос и достаем ответ\n",
    "text = response.read().decode('utf-8')  # читаем ответ в строку\n",
    "data = json.loads(text) # превращаем джейсон-строку в объекты питона\n",
    "\n",
    "print(len(data))  # можно распечатать, сколько у пользователя репозиториев\n",
    "for i in data:\n",
    "    print(i[\"name\"]) # и распечатать названия всех репозиториев"
   ]
  },
  {
   "cell_type": "markdown",
   "metadata": {},
   "source": [
    "## Задания\n",
    "\n",
    "### Часть 1. Про гитхаб.\n",
    "Вот, например, несколько (не)случайных юзеров гитхаба: elmiram, elizavetakuzmenko, nevmenandr, ancatmara, roctbb, akutuzov, agricolamz, lehkost, macleginn, kylepjohnson, mikekestemont, shwars, JelteF, timgraham, arogozhnikov, jasny, bcongdon, whyisjake.\n",
    "\n",
    "Вам нужно:\n",
    "\n",
    "1) Выбрать какого-то одного пользователя и распечатать список его репозиториев (name) и их описания (description). Можно сделать то же самое для своей странички на гитхабе.\n",
    "\n",
    "2) На каких языках пишет выбранный пользователь? Распечатать список языков (language) и количество репозиториев, в котором они используются.\n",
    "\n",
    "3) У кого из пользователей в списке больше всего репозиториев?\n",
    "\n",
    "4) Какой язык самый популярный среди пользователей списка?\n",
    "\n",
    "5) У кого из пользователей списка больше всего фолловеров? (фолловеров можно достать по ссылке https://api.github.com/users/username/followers, где вместо username -- имя пользователя)\n",
    "\n",
    "\n",
    "### Часть 2. Мы же все-таки лингвисты.\n",
    "\n",
    "Вот например есть такой [json](https://github.com/ancatmara/learnpython2017/blob/master/Семинары/data/harms.json). Нужно прочитать этот файл и записать на его основе [XML, как в НКРЯ](https://github.com/ancatmara/learnpython2017/blob/master/Семинары/data/harms.xml)."
   ]
  }
 ],
 "metadata": {
  "kernelspec": {
   "display_name": "Python 3",
   "language": "python",
   "name": "python3"
  },
  "language_info": {
   "codemirror_mode": {
    "name": "ipython",
    "version": 3.0
   },
   "file_extension": ".py",
   "mimetype": "text/x-python",
   "name": "python",
   "nbconvert_exporter": "python",
   "pygments_lexer": "ipython3",
   "version": "3.6.0"
  }
 },
 "nbformat": 4,
 "nbformat_minor": 0
}