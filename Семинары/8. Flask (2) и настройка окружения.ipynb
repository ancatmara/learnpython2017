{
 "cells": [
  {
   "cell_type": "markdown",
   "metadata": {},
   "source": [
    "# Flask и немного магии\n",
    "\n",
    "## Словари в шаблонах\n",
    "\n",
    "Предположим, у нас есть словарь, в котором хранятся имена наших друзей и их почтовые адреса. И мы хотим выводить эти имена с адресами на нашем сайте. Мы можем написать что-то такое:"
   ]
  },
  {
   "cell_type": "code",
   "execution_count": 4,
   "metadata": {
    "collapsed": true
   },
   "outputs": [],
   "source": [
    "from flask import Flask\n",
    "from flask import render_template\n",
    "\n",
    "app = Flask(__name__)\n",
    "\n",
    "\n",
    "@app.route('/')\n",
    "def index():\n",
    "    emailbook = {'Петя': 'petya@example.com',\n",
    "                 'Вася': 'vasya@example.com',\n",
    "                 'Катя': 'katya@example.com'}\n",
    "    return render_template('index.html', emails=emailbook)\n",
    "\n",
    "if __name__ == '__main__':\n",
    "    app.run()"
   ]
  },
  {
   "cell_type": "markdown",
   "metadata": {},
   "source": [
    "Тогда в папке `templates` нам нужно создать файл `index.html`, в котором будут перебираться элементы словаря. Делается это с помощью функции `items()`. Вот так будет выглядеть `index.html`:"
   ]
  },
  {
   "cell_type": "code",
   "execution_count": null,
   "metadata": {
    "collapsed": true
   },
   "outputs": [],
   "source": [
    "<!DOCTYPE html>\n",
    "<html lang=\"en\">\n",
    "<head>\n",
    "    <meta charset=\"UTF-8\">\n",
    "    <title>Почтовые адреса</title>\n",
    "</head>\n",
    "<body>\n",
    "<h1>Адреса моих друзей</h1>\n",
    "<ul>\n",
    "    {% for name, email in emails.items() %}\n",
    "        <li>{{ name }} - {{ email }}</li>\n",
    "    {% endfor %}\n",
    "</ul>\n",
    "</body>\n",
    "</html>"
   ]
  },
  {
   "cell_type": "markdown",
   "metadata": {},
   "source": [
    "## Перенаправление\n",
    "\n",
    "Для того, чтобы направить пользователя на другую страницу, используется функция `redirect`. Например, вот приложение, в котором есть страница /time. С помощью функции `redirect` можно, например, реализовать такое:\n",
    "\n",
    "- если пользователь заходит на страницу /time в рабочее время (с 10 до 18), то он перенаправляется на главную страницу сайта,\n",
    "- если пользователь заходит на страницу в другое время, то он перенаправляется на страницу /hi."
   ]
  },
  {
   "cell_type": "code",
   "execution_count": null,
   "metadata": {
    "collapsed": true
   },
   "outputs": [],
   "source": [
    "import datetime\n",
    "\n",
    "from flask import Flask\n",
    "from flask import url_for, render_template, request, redirect\n",
    "\n",
    "app = Flask(__name__)\n",
    "\n",
    "\n",
    "@app.route('/')\n",
    "def index():\n",
    "    return '<html><body><h1>Привет, мир!</h1></body></html>'\n",
    "\n",
    "\n",
    "@app.route('/hi')\n",
    "@app.route('/hi/<user>')\n",
    "def hi(user=None):\n",
    "    if user is None:\n",
    "        user = 'friend'\n",
    "    return '<html><body><p>Привет, ' + user + '!</p></body></html>'\n",
    "\n",
    "\n",
    "@app.route('/time')\n",
    "def time_redirect():\n",
    "    h = datetime.datetime.today().hour\n",
    "    if 10 < h < 18:\n",
    "        return redirect(url_for('index'))\n",
    "    return redirect(url_for('hi'))\n",
    "\n",
    "\n",
    "if __name__ == '__main__':\n",
    "    app.run(debug=True)"
   ]
  },
  {
   "cell_type": "markdown",
   "metadata": {},
   "source": [
    "Когда вы пишете сайт на фласке у себя на компьютере, можно написать вместо `app.run()` вот так: `app.run(debug=True)` (см. выше последнюю строчку). Это значит, что если на сайте возникнет ошибка, то на странице с ошибкой выведется ее описание, и вы легко сможете понять, в каком месте кода все падает. Но когда вы будете выкладывать сайт в Интернет, нужно убедиться, что `debug` отключен.\n",
    "\n",
    "## Как вывести на веб-страничку содержимое текстового файла?"
   ]
  },
  {
   "cell_type": "code",
   "execution_count": 10,
   "metadata": {
    "collapsed": false
   },
   "outputs": [],
   "source": [
    "from flask import Flask\n",
    "from flask import url_for, render_template, request, redirect\n",
    "\n",
    "app = Flask(__name__)\n",
    "\n",
    "@app.route('/poem')\n",
    "def poem():\n",
    "    with open(\"poem.txt\", \"r\", encoding='utf-8') as f:\n",
    "        content = f.read().split('\\n')\n",
    "    return render_template(\"poem.html\", content=content)\n",
    "\n",
    "if __name__ == '__main__':\n",
    "    app.run(debug=True)"
   ]
  },
  {
   "cell_type": "code",
   "execution_count": 8,
   "metadata": {
    "collapsed": false
   },
   "outputs": [],
   "source": [
    "<!DOCTYPE html>\n",
    "<html lang=\"ru\">\n",
    "<head>\n",
    "    <meta charset=\"UTF-8\">\n",
    "    <title>Зимнее утро</title>\n",
    "</head>\n",
    "<body>\n",
    "    <p>\n",
    "    {%for i in content%}\n",
    "        {{i}}\n",
    "        <br>\n",
    "    {%endfor%}\n",
    "    </p>\n",
    "</body>\n",
    "</html>"
   ]
  },
  {
   "cell_type": "markdown",
   "metadata": {},
   "source": [
    "## Чего делать не надо?\n",
    "\n",
    "1. Самое главное - не называть рабочий файл так же, как модуль. Если вы назовете файл flask.py, то получите ошибку импорта имени Flask, потому что ваш файл будет импортировать сам себя.\n",
    "2. Кроме того, не надо называть свои переменные и функции так же, как называются встроенные функции в питоне, т.е. переменные с именами dict и list - плохая идея.\n",
    "\n",
    "## Как проверить версию питона и список установленных пакетов?\n",
    "\n",
    "* Чтобы посмотреть версию питона, нужно открыть терминал (на Windows он называется cmd, можно найти через поиск) и написать там `python --version`. В ответ вы должны получить что-то вроде `Python 3.6.0 :: Anaconda custom (64-bit)`.\n",
    "* Стандартный терминал на Windows очень неудобный. Альтернативу можно выбрать, прочитав [вот эту статью](https://habrahabr.ru/post/164687/).\n",
    "* Чтобы увидеть список установленных пакетов, нужно набрать в терминале `pip freeze`. На выходе вы увидите что-то такое:\n",
    "\n",
    "`\n",
    "regex==2017.9.23\n",
    "requests==2.14.2\n",
    "rope-py3k==0.9.4.post1\n",
    "scikit-image==0.13.0\n",
    "scikit-learn==0.19.0\n",
    "scipy==0.19.1\n",
    "seaborn==0.7.1\n",
    "simplegeneric==0.8.1\n",
    "singledispatch==3.4.0.3\n",
    "six==1.10.0\n",
    "snowballstemmer==1.2.1\n",
    "sockjs-tornado==1.0.3\n",
    "spacy==1.9.0\n",
    "`\n",
    "\n",
    "* Если у вас старая версия питона, то вы можете увидеть ошибку, что pip не найден. Тогда его нужно установить вручную.  Это делается командой `python get-pip.py`. Подробнее о работе с pip можно почитать на [официальном сайте с документацией](https://pip.pypa.io/en/stable/)\n",
    "* pip позволяет устанавливать новые пакеты простой командой `pip install package-name`. Если вы устанавливали сборку Anaconda, то новые пакеты также можно устанавливать командой `conda install package-name`.\n",
    "* На компьютере может быть установлено больше одного интерпретатора питона, например, python2 и python3. Соответственно, на разные интерпретаторы могут быть установлены разные пакеты. Интерпретатор - это программа, которая делает код, написанный на высокоуровневом языке вроде питона, понятным компьютеру, который оперирует низкоуровневыми командами. В нашем случае интерпретатор - это файл python, который исполняет все скрипты с расширением `.py`. По умолчанию скрипты исполняются тем интерпретатором, который выдаст вам команда `python --version` в терминале.\n",
    "* Если при вводе `python` в командную строку появляется ошибка, что такой команды нет, или же вы хотите сделать дефолтной другую версию питона, нужно прописать путь к питону в переменной среды (окружения) PATH. Эта переменная содержит список **директорий**, в которых операционная система должна искать исполняемые файлы. В качестве разделителя используется точка с запятой (;) в операционной системе Windows и двоеточие (:) в операционных системах Linux и MacOS. Очень хорошее краткое объяснение переменных среды в целом и PATH в частности можно почитать [вот тут](http://barancev.github.io/what-is-path-env-var/). На Windows добавить новую строку в PATH можно через `Изменение системных переменных среды > Переменные среды > PATH > Изменить`. В разных версиях и локализациях Windows это может называться \"переменными окружения\" или \"environment variables\". Например, если у вас анаконда, то в папке должны быть строки следующего типа:\n",
    "\n",
    "`C:\\Users\\ancatmara\\Anaconda3\n",
    "C:\\Users\\ancatmara\\Anaconda3\\Lib\\bin\n",
    "C:\\Users\\ancatmara\\Anaconda3\\Scripts`\n",
    "\n",
    "А если обычный питон - то что-то вот такое.\n",
    "\n",
    "`C:\\ProgramFiles\\Python3\n",
    "C:\\ProgramFiles\\Python3\\Lib\n",
    "C:\\ProgramFiles\\Python3\\Scripts`\n",
    "\n",
    "* В различных IDE (IDLE, PyCharm и т.д.) тоже можно выбирать интерпретатор в настройках. Например, в PyCharm это делается с помощью `File > Settings > Project > Project Interpreter`. На всякий случай напоминаю, что IDE значит *Integrated Development Environment*, т.е. интегрированная среда разработки. Это такая специальная программа, которая делает написание кода на определенном языке гораздо удобнее, своего рода редактор."
   ]
  },
  {
   "cell_type": "markdown",
   "metadata": {},
   "source": [
    "## Задание для тренировки\n",
    "\n",
    "Скачайте из репозитория [список языковых кодов](https://github.com/elmiram/2016learnpython/blob/master/data/lang_codes.csv). \n",
    "После этого нужно создать сайт, в котором:\n",
    "1. На главной странице выводится список языков и их кодов (`127.0.0.1:5000`),\n",
    "2. Если зайти на страницу вида `127.0.0.1:5000/langs/какие-то_буквы`, то на этой странице выведется список только тех языков, коды которых начинаются с этих букв. Например, если зайти на `127.0.0.1:5000/codes/jp`, то выведется японский и еврейско-персидский, а если зайти на `127.0.0.1:5000/codes/j`, то японский, еврейско-персидский, еврейско-арабский и яванский.\n",
    "3. Есть форма на странице `127.0.0.1:5000/form`, в которой есть поле \"Язык\". В это поле пользователь будет вводить название языка, например \"японский\". Когда пользователь нажимает кнопку \"Отправить\", \n",
    "    * если введенного языка нет в списке, пользователь попадает на страницу `127.0.0.1:5000/not_found` с соответствующим сообщением,\n",
    "    * если введенный язык есть в списке, пользователь должен попасть на страницу `127.0.0.1:5000/lang/код_языка`. На этой странице должно выводиться следующее: название введенного языка, код введенного языка, названия всех языков, код которых начинается на ту же букву.\n",
    "4. На всех страницах есть кликабельная ссылка на главную и на страницу с формой.\n",
    "\n",
    "Пример сайта на фласке есть в репозитории [вот тут](https://github.com/ancatmara/learnpython2017/tree/master/%D0%A1%D0%B5%D0%BC%D0%B8%D0%BD%D0%B0%D1%80%D1%8B/flask_example). Там есть примеры использования всех функций фласка, которые мы проходили. (*Туда можно подглядывать.*)"
   ]
  }
 ],
 "metadata": {
  "kernelspec": {
   "display_name": "Python 3",
   "language": "python",
   "name": "python3"
  },
  "language_info": {
   "codemirror_mode": {
    "name": "ipython",
    "version": 3
   },
   "file_extension": ".py",
   "mimetype": "text/x-python",
   "name": "python",
   "nbconvert_exporter": "python",
   "pygments_lexer": "ipython3",
   "version": "3.6.0"
  }
 },
 "nbformat": 4,
 "nbformat_minor": 0
}
